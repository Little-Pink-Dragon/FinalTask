{
  "nbformat": 4,
  "nbformat_minor": 0,
  "metadata": {
    "colab": {
      "provenance": [],
      "authorship_tag": "ABX9TyP4Bp8TsWyBR22425esSSAF",
      "include_colab_link": true
    },
    "kernelspec": {
      "name": "python3",
      "display_name": "Python 3"
    },
    "language_info": {
      "name": "python"
    }
  },
  "cells": [
    {
      "cell_type": "markdown",
      "metadata": {
        "id": "view-in-github",
        "colab_type": "text"
      },
      "source": [
        "<a href=\"https://colab.research.google.com/github/Little-Pink-Dragon/FinalTask/blob/main/%D0%94%D0%BE%D0%BC%D0%B0%D1%88%D0%BD%D0%B5%D0%B5%20%D0%B7%D0%B0%D0%B4%D0%B0%D0%BD%D0%B8%D0%B5%201.ipynb\" target=\"_parent\"><img src=\"https://colab.research.google.com/assets/colab-badge.svg\" alt=\"Open In Colab\"/></a>"
      ]
    },
    {
      "cell_type": "markdown",
      "source": [
        "**Условие 1:**\n",
        "\n",
        "Оформляйте ноутбук, используя эти советы:\n",
        "\n",
        "Номер задачи - заголовок 2\n",
        "\n",
        "Номер подзадачи - заголовок 3\n",
        "\n",
        "Предоставленные наборы данных оформляйте, как код"
      ],
      "metadata": {
        "id": "ZOCCU56fAhBo"
      }
    },
    {
      "cell_type": "markdown",
      "source": [
        "**Условие 2:**\n",
        "\n",
        "На складе лежат разные фрукты в разном количестве.\n",
        "Нужно написать функцию, которая на вход принимает любое количество названий фруктов и их количество, а возвращает общее количество фруктов на складе"
      ],
      "metadata": {
        "id": "vQc6snVIBX3K"
      }
    },
    {
      "cell_type": "code",
      "execution_count": 26,
      "metadata": {
        "id": "CsLupptk0sgN"
      },
      "outputs": [],
      "source": [
        "def fruits(**fruits):\n",
        "    total_fruits = sum(fruits.values())\n",
        "    return f'Total fruits: {total_fruits}'"
      ]
    },
    {
      "cell_type": "code",
      "source": [
        "print(fruits(oranges=8, grapefruitы=2, apples=6))"
      ],
      "metadata": {
        "colab": {
          "base_uri": "https://localhost:8080/"
        },
        "id": "CKh74kWkBtfH",
        "outputId": "1c027130-9217-4c1e-baec-0461254d45ba"
      },
      "execution_count": 27,
      "outputs": [
        {
          "output_type": "stream",
          "name": "stdout",
          "text": [
            "Total fruits: 16\n"
          ]
        }
      ]
    },
    {
      "cell_type": "markdown",
      "source": [
        "**Условие 3:**\n",
        "\n",
        "Дан список с затратами на рекламу. Но в данных есть ошибки, некоторые затраты имеют отрицательную величину. Удалите такие значения из списка и посчитайте суммарные затраты:\n",
        "\n",
        "**[100, 125, -90, 345, 655, -1, 0, 200]**\n",
        "\n",
        "*Используйте list comprehensions*"
      ],
      "metadata": {
        "id": "NTIgs5WID-t7"
      }
    },
    {
      "cell_type": "code",
      "source": [
        "expenses = [100, 125, -90, 345, 655, -1, 0, 200]\n",
        "\n",
        "print(f'Total costs: {sum([i for i in expenses if i > 0 ])}')"
      ],
      "metadata": {
        "colab": {
          "base_uri": "https://localhost:8080/"
        },
        "id": "KGLl7H5NEQuy",
        "outputId": "756ceeda-e47a-4262-8503-00dc6e7f251e"
      },
      "execution_count": 28,
      "outputs": [
        {
          "output_type": "stream",
          "name": "stdout",
          "text": [
            "Total costs: 1425\n"
          ]
        }
      ]
    },
    {
      "cell_type": "markdown",
      "source": [
        "**Условие 4:**\n",
        "\n",
        "Даны два списка.\n",
        "\n",
        "Дата покупки:\n",
        "\n",
        "**['2021-09-14', '2021-12-15', '2021-09-08', '2021-12-05', '2021-10-09', '2021-09-30', '2021-12-22', '2021-11-29', '2021-12-24', '2021-11-26', '2021-10-27', '2021-12-18', '2021-11-09', '2021-11-23', '2021-09-27', '2021-10-02', '2021-12-27', '2021-09-20', '2021-12-13', '2021-11-01', '2021-11-09', '2021-12-06', '2021-12-08', '2021-10-09', '2021-10-31', '2021-09-30', '2021-11-09', '2021-12-13', '2021-10-26', '2021-12-09']**\n",
        "\n",
        "Суммы покупок по датам\n",
        "\n",
        "**[1270, 8413, 9028, 3703, 5739, 4095, 295, 4944, 5723, 3701, 4471, 651, 7037, 4274, 6275, 4988, 6930, 2971, 6592, 2004, 2822, 519, 3406, 2732, 5015, 2008, 316, 6333, 5700, 2887]**"
      ],
      "metadata": {
        "id": "VGddGsNiFXNu"
      }
    },
    {
      "cell_type": "markdown",
      "source": [
        "**Условие 4.1:**\n",
        "\n",
        " Найдите, какая выручка у компании в ноябре\n",
        "\n",
        "*Используйте list comprehensions*"
      ],
      "metadata": {
        "id": "xcgnJLsTFrp4"
      }
    },
    {
      "cell_type": "code",
      "source": [
        "date = ['2021-09-14', '2021-12-15', '2021-09-08', '2021-12-05', '2021-10-09', \n",
        "        '2021-09-30', '2021-12-22', '2021-11-29', '2021-12-24', '2021-11-26', \n",
        "        '2021-10-27', '2021-12-18', '2021-11-09', '2021-11-23', '2021-09-27', \n",
        "        '2021-10-02', '2021-12-27', '2021-09-20', '2021-12-13', '2021-11-01', \n",
        "        '2021-11-09', '2021-12-06', '2021-12-08', '2021-10-09', '2021-10-31', \n",
        "        '2021-09-30', '2021-11-09', '2021-12-13', '2021-10-26', '2021-12-09']\n",
        "purchases = [1270, 8413, 9028, 3703, 5739, 4095, 295, 4944, 5723, 3701, \n",
        "        4471, 651, 7037, 4274, 6275, 4988, 6930, 2971, 6592, 2004, \n",
        "        2822, 519, 3406, 2732, 5015, 2008, 316, 6333, 5700, 2887]"
      ],
      "metadata": {
        "id": "Aj9J4d2GGD91"
      },
      "execution_count": 29,
      "outputs": []
    },
    {
      "cell_type": "code",
      "source": [
        "print(f'Income: {sum([purchases[i] for i in range(len(date)-1) if \"-11\" in date[i]])}')"
      ],
      "metadata": {
        "colab": {
          "base_uri": "https://localhost:8080/"
        },
        "id": "6GAWrYm0HDxy",
        "outputId": "abfb8778-f26f-4055-fa60-9b66ca966736"
      },
      "execution_count": 30,
      "outputs": [
        {
          "output_type": "stream",
          "name": "stdout",
          "text": [
            "Income: 25098\n"
          ]
        }
      ]
    },
    {
      "cell_type": "markdown",
      "source": [
        "**Условие 4.2:**\n",
        "\n",
        "Найдите выручку компании в зависимости от месяца\n",
        "\n",
        "\n",
        "Для этого напишите функцию, которая на вход принимает список с датами и список с выручкой, а на выходе словарь, где ключи - это месяцы, а значения - это выручка.\n",
        "\n",
        "*Используйте аннотирование типов.*"
      ],
      "metadata": {
        "id": "Lti5GfQeHyLj"
      }
    },
    {
      "cell_type": "code",
      "source": [
        "def Month_and_income(date: list, purchases: list) -> dict:\n",
        "    \n",
        "    Month_and_income = {}\n",
        "    \n",
        "    for i in range(len(date)):\n",
        "        \n",
        "        if date[i].split('-')[1] in Month_and_income.keys():\n",
        "            Month_and_income[date[i].split('-')[1]] += purchases[i]\n",
        "        else:\n",
        "            Month_and_income[date[i].split('-')[1]] = purchases[i]\n",
        "            \n",
        "    return Month_and_income\n",
        "\n",
        "print(Month_and_income(date, purchases))"
      ],
      "metadata": {
        "colab": {
          "base_uri": "https://localhost:8080/"
        },
        "id": "caqxjPabIDHl",
        "outputId": "da27ee06-cbf6-416a-fc39-d2991082d441"
      },
      "execution_count": 31,
      "outputs": [
        {
          "output_type": "stream",
          "name": "stdout",
          "text": [
            "{'09': 25647, '12': 45452, '10': 28645, '11': 25098}\n"
          ]
        }
      ]
    }
  ]
}